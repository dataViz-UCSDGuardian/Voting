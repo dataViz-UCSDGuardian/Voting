{
 "cells": [
  {
   "cell_type": "code",
   "execution_count": 1,
   "metadata": {
    "collapsed": true
   },
   "outputs": [],
   "source": [
    "# For UCSD Guardian\n",
    "# Link to Data: http://www2.sdcounty.ca.gov/rov/Eng/Past.html\n",
    "# http://www.sos.ca.gov/elections/prior-elections/statewide-election-results/presidential-primary-election-june-7-2016/statement-vote/\n",
    "# Author: Halle Davis\n",
    "# Date: 10/18"
   ]
  },
  {
   "cell_type": "code",
   "execution_count": 2,
   "metadata": {
    "collapsed": true
   },
   "outputs": [],
   "source": [
    "import openpyxl\n",
    "import plotly\n",
    "import plotly.plotly as py\n",
    "import plotly.graph_objs as go\n",
    "plotly.tools.set_credentials_file(username='halle.davis', api_key='rqakkm1kio')"
   ]
  },
  {
   "cell_type": "code",
   "execution_count": 3,
   "metadata": {
    "collapsed": false
   },
   "outputs": [
    {
     "name": "stderr",
     "output_type": "stream",
     "text": [
      "/Users/halledavis/anaconda/lib/python3.5/site-packages/openpyxl/reader/worksheet.py:307: UserWarning:\n",
      "\n",
      "Unknown extension is not supported and will be removed\n",
      "\n"
     ]
    }
   ],
   "source": [
    "votedata = openpyxl.load_workbook('VotingData.xlsx')"
   ]
  },
  {
   "cell_type": "code",
   "execution_count": 4,
   "metadata": {
    "collapsed": false
   },
   "outputs": [
    {
     "name": "stdout",
     "output_type": "stream",
     "text": [
      "['Table 1']\n"
     ]
    }
   ],
   "source": [
    "print(votedata.get_sheet_names())"
   ]
  },
  {
   "cell_type": "code",
   "execution_count": 5,
   "metadata": {
    "collapsed": true
   },
   "outputs": [],
   "source": [
    "vdatatable = votedata.get_sheet_by_name(\"Table 1\")"
   ]
  },
  {
   "cell_type": "code",
   "execution_count": 6,
   "metadata": {
    "collapsed": false
   },
   "outputs": [
    {
     "name": "stdout",
     "output_type": "stream",
     "text": [
      "Section 1 2016P\n"
     ]
    }
   ],
   "source": [
    "print(vdatatable['A4'].value)"
   ]
  },
  {
   "cell_type": "code",
   "execution_count": 7,
   "metadata": {
    "collapsed": false
   },
   "outputs": [
    {
     "data": {
      "text/html": [
       "<iframe id=\"igraph\" scrolling=\"no\" style=\"border:none;\" seamless=\"seamless\" src=\"https://plot.ly/~halle.davis/76.embed\" height=\"525px\" width=\"100%\"></iframe>"
      ],
      "text/plain": [
       "<plotly.tools.PlotlyDisplay object>"
      ]
     },
     "execution_count": 7,
     "metadata": {},
     "output_type": "execute_result"
    }
   ],
   "source": [
    "#UCSD: Mail vs. Poll\n",
    "labels=['Cards Cast by Mail', 'Cards Cast at Polls']\n",
    "values=[573,1137]\n",
    "\n",
    "trace=go.Pie(labels=labels,values=values)\n",
    "\n",
    "py.iplot([trace])"
   ]
  },
  {
   "cell_type": "code",
   "execution_count": 8,
   "metadata": {
    "collapsed": false
   },
   "outputs": [
    {
     "data": {
      "text/html": [
       "<iframe id=\"igraph\" scrolling=\"no\" style=\"border:none;\" seamless=\"seamless\" src=\"https://plot.ly/~halle.davis/78.embed\" height=\"525px\" width=\"100%\"></iframe>"
      ],
      "text/plain": [
       "<plotly.tools.PlotlyDisplay object>"
      ]
     },
     "execution_count": 8,
     "metadata": {},
     "output_type": "execute_result"
    }
   ],
   "source": [
    "#SD As a Whole: Mail vs. Poll\n",
    "labels=['Cards Cast by Mail', 'Cards Cast at Polls']\n",
    "values=[490560,285370]\n",
    "\n",
    "trace=go.Pie(labels=labels,values=values)\n",
    "\n",
    "py.iplot([trace])"
   ]
  },
  {
   "cell_type": "code",
   "execution_count": 9,
   "metadata": {
    "collapsed": false
   },
   "outputs": [
    {
     "data": {
      "text/html": [
       "<iframe id=\"igraph\" scrolling=\"no\" style=\"border:none;\" seamless=\"seamless\" src=\"https://plot.ly/~halle.davis/80.embed\" height=\"525px\" width=\"100%\"></iframe>"
      ],
      "text/plain": [
       "<plotly.tools.PlotlyDisplay object>"
      ]
     },
     "execution_count": 9,
     "metadata": {},
     "output_type": "execute_result"
    }
   ],
   "source": [
    "#UCSD: Mail Drop vs. Mail In\n",
    "nodrop = 573 - 192\n",
    "\n",
    "labels=['Voters who Dropped Off', 'Voters who Mailed In']\n",
    "values=[192, nodrop]\n",
    "\n",
    "trace=go.Pie(labels=labels,values=values)\n",
    "\n",
    "py.iplot([trace])"
   ]
  },
  {
   "cell_type": "code",
   "execution_count": 10,
   "metadata": {
    "collapsed": false
   },
   "outputs": [
    {
     "data": {
      "text/html": [
       "<iframe id=\"igraph\" scrolling=\"no\" style=\"border:none;\" seamless=\"seamless\" src=\"https://plot.ly/~halle.davis/82.embed\" height=\"525px\" width=\"100%\"></iframe>"
      ],
      "text/plain": [
       "<plotly.tools.PlotlyDisplay object>"
      ]
     },
     "execution_count": 10,
     "metadata": {},
     "output_type": "execute_result"
    }
   ],
   "source": [
    "#UCSD: Turn Out vs. Stay Home\n",
    "labels=['Voters who Turned Out', 'Voters who didnt Turn Out']\n",
    "values=[1637,1167]\n",
    "\n",
    "trace=go.Pie(labels=labels,values=values)\n",
    "\n",
    "py.iplot([trace])"
   ]
  },
  {
   "cell_type": "code",
   "execution_count": 11,
   "metadata": {
    "collapsed": false
   },
   "outputs": [
    {
     "data": {
      "text/html": [
       "<iframe id=\"igraph\" scrolling=\"no\" style=\"border:none;\" seamless=\"seamless\" src=\"https://plot.ly/~halle.davis/84.embed\" height=\"525px\" width=\"100%\"></iframe>"
      ],
      "text/plain": [
       "<plotly.tools.PlotlyDisplay object>"
      ]
     },
     "execution_count": 11,
     "metadata": {},
     "output_type": "execute_result"
    }
   ],
   "source": [
    "#SD As a Whole: Turn Out vs. Stay Home\n",
    "labels=['Voters who Turned Out', 'Voters who didnt Turn Out']\n",
    "values=[775930,747321]\n",
    "\n",
    "trace=go.Pie(labels=labels,values=values)\n",
    "\n",
    "py.iplot([trace])"
   ]
  },
  {
   "cell_type": "code",
   "execution_count": 12,
   "metadata": {
    "collapsed": false
   },
   "outputs": [
    {
     "data": {
      "text/html": [
       "<iframe id=\"igraph\" scrolling=\"no\" style=\"border:none;\" seamless=\"seamless\" src=\"https://plot.ly/~halle.davis/56.embed\" height=\"525px\" width=\"100%\"></iframe>"
      ],
      "text/plain": [
       "<plotly.tools.PlotlyDisplay object>"
      ]
     },
     "execution_count": 12,
     "metadata": {},
     "output_type": "execute_result"
    }
   ],
   "source": [
    "#UCSD vs. SD Turnout \n",
    "\n",
    "data = [go.Bar(\n",
    "        x=['UCSD', 'Whole SD'],\n",
    "        y=[58.38, 50.94])]\n",
    "\n",
    "py.iplot(data, filename='UCSD vs. SD Turnout')"
   ]
  },
  {
   "cell_type": "code",
   "execution_count": 21,
   "metadata": {
    "collapsed": false
   },
   "outputs": [
    {
     "data": {
      "text/html": [
       "<iframe id=\"igraph\" scrolling=\"no\" style=\"border:none;\" seamless=\"seamless\" src=\"https://plot.ly/~halle.davis/74.embed\" height=\"525px\" width=\"100%\"></iframe>"
      ],
      "text/plain": [
       "<plotly.tools.PlotlyDisplay object>"
      ]
     },
     "execution_count": 21,
     "metadata": {},
     "output_type": "execute_result"
    }
   ],
   "source": [
    "#Turnout\n",
    "\n",
    "primaryucsd = [111.33, 12.61, 58.38]\n",
    "generalucsd = [101.24, 90.01]\n",
    "primarysd = [60.67, 37.43, 50.94]\n",
    "generalsd = [83.72, 76.98]\n",
    "yearprimary = [2008, 2012, 2016]\n",
    "yeargeneral = [2008, 2012]\n",
    "yearcaprim = [2008, 2010, 2012, 2014, 2016]\n",
    "yearcagen = [2008, 2010, 2012, 2014]\n",
    "generalca = [79.4, 59.59, 72.36, 42.20]\n",
    "primaryca = [57.71, 33.31, 31.06, 25.17, 47.72]\n",
    "\n",
    "trace0 = go.Scatter(\n",
    "    x = yearprimary,\n",
    "    y = primaryucsd,\n",
    "    name = 'UCSD Turnout in Primaries',\n",
    "    line = dict(\n",
    "        color = ('rgb(153, 153, 255)'),\n",
    "        width = 4)\n",
    ")\n",
    "trace1 = go.Scatter(\n",
    "    x = yearprimary,\n",
    "    y = primarysd,\n",
    "    name = 'SD Turnout in Primaries',\n",
    "    line = dict(\n",
    "        color = ('rgb(76, 0, 153)'),\n",
    "        width = 4,)\n",
    ")\n",
    "trace2 = go.Scatter(\n",
    "    x = yearcaprim,\n",
    "    y = primaryca,\n",
    "    name = 'CA Turnout in Primaries',\n",
    "    line = dict(\n",
    "        color = ('rgb(0, 102, 204)'),\n",
    "        width = 4,)\n",
    ")\n",
    "trace3 = go.Scatter(\n",
    "    x = yeargeneral,\n",
    "    y = generalucsd,\n",
    "    name = 'UCSD Turnout in General',\n",
    "    line = dict(\n",
    "        color = ('rgb(153, 153, 255)'),\n",
    "        width = 4,\n",
    "        dash = 'dash')\n",
    ")\n",
    "trace4 = go.Scatter(\n",
    "    x = yeargeneral,\n",
    "    y = generalsd,\n",
    "    name = 'SD Turnout in General',\n",
    "    line = dict(\n",
    "        color = ('rgb(76, 0, 153)'),\n",
    "        width = 4,\n",
    "        dash = 'dash')\n",
    ")\n",
    "trace5 = go.Scatter(\n",
    "    x = yearcagen,\n",
    "    y = generalca,\n",
    "    name = 'CA Turnout in General',\n",
    "    line = dict(\n",
    "        color = ('rgb(0, 102, 204)'),\n",
    "        width = 4,\n",
    "        dash = 'dash')\n",
    ")\n",
    "\n",
    "\n",
    "\n",
    "data = [trace0, trace1, trace2, trace3, trace4, trace5]\n",
    "\n",
    "layout = dict(title = 'Turnout Rate of Registered Voters',\n",
    "             xaxis = dict(title = 'Year'),\n",
    "             yaxis = dict(title = 'Turnout'),\n",
    "             )\n",
    "\n",
    "fig = dict(data=data, layout=layout)\n",
    "py.iplot(fig, filename='styled-line')"
   ]
  },
  {
   "cell_type": "code",
   "execution_count": 4,
   "metadata": {
    "collapsed": false
   },
   "outputs": [
    {
     "data": {
      "text/html": [
       "<iframe id=\"igraph\" scrolling=\"no\" style=\"border:none;\" seamless=\"seamless\" src=\"https://plot.ly/~halle.davis/88.embed\" height=\"525px\" width=\"100%\"></iframe>"
      ],
      "text/plain": [
       "<plotly.tools.PlotlyDisplay object>"
      ]
     },
     "execution_count": 4,
     "metadata": {},
     "output_type": "execute_result"
    }
   ],
   "source": [
    "#Who Did People Vote For in 2016 Primary\n",
    "\n",
    "#Tritons\n",
    "trace1 = go.Bar(\n",
    "    x=['Bernie Sanders', 'Hillary Clinton', 'Donald Trump', 'Ted Cruz', 'John Kasich'],\n",
    "    y=[95.13, 13.29, 9.5, 5, 6.5],\n",
    "    name='UCSD'\n",
    ")\n",
    "#San Diegans\n",
    "trace2 = go.Bar(\n",
    "    x=['Bernie Sanders', 'Hillary Clinton', 'Donald Trump', 'Ted Cruz', 'John Kasich'],\n",
    "    y=[47.63, 51.43, 76.26, 8, 10.5],\n",
    "    name='SD'\n",
    ")\n",
    "#Californians\n",
    "trace3 = go.Bar(\n",
    "    x=['Bernie Sanders', 'Hillary Clinton', 'Donald Trump', 'Ted Cruz', 'John Kasich'],\n",
    "    y=[46, 53.1, 74.8, 9.5, 11.3],\n",
    "    name='CA')\n",
    "data=[trace1, trace2, trace3]\n",
    "layout = go.Layout(\n",
    "    title='Who Did People Vote for in 2016 Primary',\n",
    ")\n",
    "\n",
    "fig = go.Figure(data=data, layout=layout)\n",
    "py.iplot(fig, filename='Who Did People Vote For')"
   ]
  },
  {
   "cell_type": "code",
   "execution_count": null,
   "metadata": {
    "collapsed": true
   },
   "outputs": [],
   "source": []
  }
 ],
 "metadata": {
  "kernelspec": {
   "display_name": "Python 3",
   "language": "python",
   "name": "python3"
  },
  "language_info": {
   "codemirror_mode": {
    "name": "ipython",
    "version": 3
   },
   "file_extension": ".py",
   "mimetype": "text/x-python",
   "name": "python",
   "nbconvert_exporter": "python",
   "pygments_lexer": "ipython3",
   "version": "3.5.1"
  }
 },
 "nbformat": 4,
 "nbformat_minor": 0
}
